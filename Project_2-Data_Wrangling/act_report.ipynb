{
 "cells": [
  {
   "cell_type": "markdown",
   "metadata": {},
   "source": [
    "## Report: act_report\n",
    "* Create a **250-word-minimum written report** called \"act_report.pdf\" or \"act_report.html\" that communicates the insights and displays the visualization(s) produced from your wrangled data. This is to be framed as an external document, like a blog post or magazine article, for example."
   ]
  },
  {
   "cell_type": "markdown",
   "metadata": {},
   "source": [
    "## Dogs on Twitter\n",
    "\n",
    "### Introduction:\n",
    "The data used for wrangling and analyses is the tweet archive for WeRateDogs. WeRateDogs is a twitter account that provide a platform for individuals to rate poeples dogs with humorous comments about dogs. WeRateDogs has over 4 million followers and has received international media coverage. The archive in this stduy contains dog tweets and image predictions of dog images for thousands of tweets between November 2015 and August, 2017."
   ]
  },
  {
   "cell_type": "markdown",
   "metadata": {},
   "source": [
    "### #1: Most Popular breeds and names for dogs\n",
    "\n",
    "The data analyses and visualization gives an idea of the popularity and distribution of dog breeds as predicted by the neural network.\n",
    "\n",
    "__The four most popular (for both retweets and favourites) breeds are as follows:__\n",
    "\n",
    "1. Golden_retriever\n",
    "2. Pembroke\n",
    "3. Labrador_retriever\n",
    "4. Chihuahua\n",
    "\n",
    "__The four most popular (for both retweets and favourites) names are below:__\n",
    "1. Bo\n",
    "2. Zoey\n",
    "3. Duddles\n",
    "4. Stephan\n",
    "\n",
    "It should be noted that these names appear at most 5 times out of a population of roughly 700, showing that dogs have very diverse names."
   ]
  },
  {
   "cell_type": "markdown",
   "metadata": {},
   "source": [
    "### #2: Most Popular Rating for a dog is roughly 12/10\n",
    "\n",
    "The histogram plot shows that majority of the dogs had rating above 8/10 which shows that that these are really good dogs, and that majority of these dogs are rated as much better than average dogs.\n",
    "\n",
    "There are about 7% of dogs that rates lower than 9/10."
   ]
  },
  {
   "cell_type": "markdown",
   "metadata": {},
   "source": [
    "### #3: Highest Rated Dogs Appear Most Often\n",
    "\n",
    "Here we can see a relationship that is pretty standard. The more common a dog is, the higher it is rated. This is due to a couple of reasons such as the \"more exposure effect\" which makes people prefer people/items they they have encountered before. Furthermore, people buy and take pictures of dogs that they like and will do so more often, increasing this bias even further."
   ]
  },
  {
   "cell_type": "markdown",
   "metadata": {},
   "source": [
    "### #4: Popularity correlates and follows and log-distribution\n",
    "\n",
    "The scattered plot shows that retweets and favorite correlate."
   ]
  },
  {
   "cell_type": "code",
   "execution_count": null,
   "metadata": {},
   "outputs": [],
   "source": []
  }
 ],
 "metadata": {
  "kernelspec": {
   "display_name": "Python 3",
   "language": "python",
   "name": "python3"
  },
  "language_info": {
   "codemirror_mode": {
    "name": "ipython",
    "version": 3
   },
   "file_extension": ".py",
   "mimetype": "text/x-python",
   "name": "python",
   "nbconvert_exporter": "python",
   "pygments_lexer": "ipython3",
   "version": "3.6.3"
  }
 },
 "nbformat": 4,
 "nbformat_minor": 2
}
